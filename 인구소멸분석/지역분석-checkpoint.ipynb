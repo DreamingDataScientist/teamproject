{
 "cells": [
  {
   "cell_type": "code",
   "execution_count": 1,
   "metadata": {
    "scrolled": true
   },
   "outputs": [
    {
     "data": {
      "text/html": [
       "<table>\n",
       "<thead><tr><th scope=col>지역</th><th scope=col>소멸비율</th><th scope=col>관광여가오락</th><th scope=col>부동산</th><th scope=col>생활서비스</th><th scope=col>의료</th><th scope=col>학문.교육</th><th scope=col>소멸지역여부</th></tr></thead>\n",
       "<tbody>\n",
       "\t<tr><td>경상북도의성군</td><td>0.3139632     </td><td>24.00         </td><td>13.00         </td><td>389.00        </td><td> 75           </td><td>61.00         </td><td>소멸위험지역  </td></tr>\n",
       "\t<tr><td>경상북도의성군</td><td>0.3140000     </td><td> 3.71         </td><td> 3.50         </td><td> 23.94        </td><td> 75           </td><td> 8.25         </td><td>소멸위험지역  </td></tr>\n",
       "\t<tr><td>경상북도의성군</td><td>0.3180173     </td><td>26.00         </td><td>15.00         </td><td>425.00        </td><td> 79           </td><td>62.00         </td><td>소멸위험지역  </td></tr>\n",
       "\t<tr><td>경상북도의성군</td><td>0.3230777     </td><td>26.00         </td><td>15.00         </td><td>424.00        </td><td> 75           </td><td>62.00         </td><td>소멸위험지역  </td></tr>\n",
       "\t<tr><td>전라남도고흥군</td><td>0.3326796     </td><td>34.00         </td><td>17.00         </td><td>514.00        </td><td>122           </td><td>96.00         </td><td>소멸위험지역  </td></tr>\n",
       "\t<tr><td>전라남도고흥군</td><td>0.3330000     </td><td> 2.83         </td><td> 5.67         </td><td> 32.13        </td><td>119           </td><td> 8.00         </td><td>소멸위험지역  </td></tr>\n",
       "</tbody>\n",
       "</table>\n"
      ],
      "text/latex": [
       "\\begin{tabular}{r|llllllll}\n",
       " 지역 & 소멸비율 & 관광여가오락 & 부동산 & 생활서비스 & 의료 & 학문.교육 & 소멸지역여부\\\\\n",
       "\\hline\n",
       "\t 경상북도의성군 & 0.3139632      & 24.00          & 13.00          & 389.00         &  75            & 61.00          & 소멸위험지역  \\\\\n",
       "\t 경상북도의성군 & 0.3140000      &  3.71          &  3.50          &  23.94         &  75            &  8.25          & 소멸위험지역  \\\\\n",
       "\t 경상북도의성군 & 0.3180173      & 26.00          & 15.00          & 425.00         &  79            & 62.00          & 소멸위험지역  \\\\\n",
       "\t 경상북도의성군 & 0.3230777      & 26.00          & 15.00          & 424.00         &  75            & 62.00          & 소멸위험지역  \\\\\n",
       "\t 전라남도고흥군 & 0.3326796      & 34.00          & 17.00          & 514.00         & 122            & 96.00          & 소멸위험지역  \\\\\n",
       "\t 전라남도고흥군 & 0.3330000      &  2.83          &  5.67          &  32.13         & 119            &  8.00          & 소멸위험지역  \\\\\n",
       "\\end{tabular}\n"
      ],
      "text/markdown": [
       "\n",
       "지역 | 소멸비율 | 관광여가오락 | 부동산 | 생활서비스 | 의료 | 학문.교육 | 소멸지역여부 | \n",
       "|---|---|---|---|---|---|\n",
       "| 경상북도의성군 | 0.3139632      | 24.00          | 13.00          | 389.00         |  75            | 61.00          | 소멸위험지역   | \n",
       "| 경상북도의성군 | 0.3140000      |  3.71          |  3.50          |  23.94         |  75            |  8.25          | 소멸위험지역   | \n",
       "| 경상북도의성군 | 0.3180173      | 26.00          | 15.00          | 425.00         |  79            | 62.00          | 소멸위험지역   | \n",
       "| 경상북도의성군 | 0.3230777      | 26.00          | 15.00          | 424.00         |  75            | 62.00          | 소멸위험지역   | \n",
       "| 전라남도고흥군 | 0.3326796      | 34.00          | 17.00          | 514.00         | 122            | 96.00          | 소멸위험지역   | \n",
       "| 전라남도고흥군 | 0.3330000      |  2.83          |  5.67          |  32.13         | 119            |  8.00          | 소멸위험지역   | \n",
       "\n",
       "\n"
      ],
      "text/plain": [
       "  지역           소멸비율  관광여가오락 부동산 생활서비스 의료 학문.교육\n",
       "1 경상북도의성군 0.3139632 24.00        13.00  389.00      75  61.00    \n",
       "2 경상북도의성군 0.3140000  3.71         3.50   23.94      75   8.25    \n",
       "3 경상북도의성군 0.3180173 26.00        15.00  425.00      79  62.00    \n",
       "4 경상북도의성군 0.3230777 26.00        15.00  424.00      75  62.00    \n",
       "5 전라남도고흥군 0.3326796 34.00        17.00  514.00     122  96.00    \n",
       "6 전라남도고흥군 0.3330000  2.83         5.67   32.13     119   8.00    \n",
       "  소멸지역여부\n",
       "1 소멸위험지역\n",
       "2 소멸위험지역\n",
       "3 소멸위험지역\n",
       "4 소멸위험지역\n",
       "5 소멸위험지역\n",
       "6 소멸위험지역"
      ]
     },
     "metadata": {},
     "output_type": "display_data"
    }
   ],
   "source": [
    "data <- read.csv('C:/Users/DJA/Desktop/DataScience/분석변수데이터/지역적인구변수2.csv')\n",
    "head(data)"
   ]
  },
  {
   "cell_type": "code",
   "execution_count": 2,
   "metadata": {},
   "outputs": [
    {
     "name": "stderr",
     "output_type": "stream",
     "text": [
      "Loading required package: lattice\n",
      "Loading required package: ggplot2\n"
     ]
    }
   ],
   "source": [
    "library(caret)\n",
    "set.seed(9876)\n",
    "inTrain <- createDataPartition(y=data$소멸비율, p=0.7, list=FALSE)\n",
    "training <- data[inTrain,]\n",
    "testing <- data[-inTrain,]"
   ]
  },
  {
   "cell_type": "code",
   "execution_count": 3,
   "metadata": {},
   "outputs": [
    {
     "data": {
      "text/plain": [
       "  관광여가오락         부동산          생활서비스           의료        \n",
       " Min.   :-0.8039   Min.   :-0.6641   Min.   :-0.8654   Min.   :-0.7986  \n",
       " 1st Qu.:-0.7431   1st Qu.:-0.6356   1st Qu.:-0.7424   1st Qu.:-0.6953  \n",
       " Median :-0.4098   Median :-0.3971   Median :-0.3438   Median :-0.3404  \n",
       " Mean   : 0.0000   Mean   : 0.0000   Mean   : 0.0000   Mean   : 0.0000  \n",
       " 3rd Qu.: 0.5099   3rd Qu.: 0.3489   3rd Qu.: 0.4813   3rd Qu.: 0.2420  \n",
       " Max.   : 4.3424   Max.   : 6.7960   Max.   : 5.0826   Max.   : 6.1153  \n",
       "   학문.교육      \n",
       " Min.   :-0.8211  \n",
       " 1st Qu.:-0.7672  \n",
       " Median :-0.3756  \n",
       " Mean   : 0.0000  \n",
       " 3rd Qu.: 0.4787  \n",
       " Max.   : 4.5668  "
      ]
     },
     "metadata": {},
     "output_type": "display_data"
    }
   ],
   "source": [
    "training.data <- scale(training[,3:7])\n",
    "summary(training.data)\n"
   ]
  },
  {
   "cell_type": "code",
   "execution_count": 7,
   "metadata": {},
   "outputs": [
    {
     "data": {
      "text/html": [
       "<table>\n",
       "<thead><tr><th></th><th scope=col>관광여가오락</th><th scope=col>부동산</th><th scope=col>생활서비스</th><th scope=col>의료</th><th scope=col>학문.교육</th></tr></thead>\n",
       "<tbody>\n",
       "\t<tr><th scope=row>1</th><td> 2.8459629</td><td> 3.3654130</td><td> 3.0806369</td><td> 3.3130465</td><td> 2.9256583</td></tr>\n",
       "\t<tr><th scope=row>2</th><td> 0.9316766</td><td> 0.6747804</td><td> 0.8474103</td><td> 0.5458501</td><td> 0.9307795</td></tr>\n",
       "\t<tr><th scope=row>3</th><td>-0.5494727</td><td>-0.4829104</td><td>-0.5318264</td><td>-0.4291130</td><td>-0.5543130</td></tr>\n",
       "</tbody>\n",
       "</table>\n"
      ],
      "text/latex": [
       "\\begin{tabular}{r|lllll}\n",
       "  & 관광여가오락 & 부동산 & 생활서비스 & 의료 & 학문.교육\\\\\n",
       "\\hline\n",
       "\t1 &  2.8459629 &  3.3654130 &  3.0806369 &  3.3130465 &  2.9256583\\\\\n",
       "\t2 &  0.9316766 &  0.6747804 &  0.8474103 &  0.5458501 &  0.9307795\\\\\n",
       "\t3 & -0.5494727 & -0.4829104 & -0.5318264 & -0.4291130 & -0.5543130\\\\\n",
       "\\end{tabular}\n"
      ],
      "text/markdown": [
       "\n",
       "| <!--/--> | 관광여가오락 | 부동산 | 생활서비스 | 의료 | 학문.교육 | \n",
       "|---|---|---|\n",
       "| 1 |  2.8459629 |  3.3654130 |  3.0806369 |  3.3130465 |  2.9256583 | \n",
       "| 2 |  0.9316766 |  0.6747804 |  0.8474103 |  0.5458501 |  0.9307795 | \n",
       "| 3 | -0.5494727 | -0.4829104 | -0.5318264 | -0.4291130 | -0.5543130 | \n",
       "\n",
       "\n"
      ],
      "text/plain": [
       "  관광여가오락 부동산     생활서비스 의료       학문.교육 \n",
       "1  2.8459629    3.3654130  3.0806369  3.3130465  2.9256583\n",
       "2  0.9316766    0.6747804  0.8474103  0.5458501  0.9307795\n",
       "3 -0.5494727   -0.4829104 -0.5318264 -0.4291130 -0.5543130"
      ]
     },
     "metadata": {},
     "output_type": "display_data"
    }
   ],
   "source": [
    "data.kmeans <- kmeans(training.data, centers = 3, iter.max = 10000)\n",
    "data.kmeans$centers"
   ]
  },
  {
   "cell_type": "code",
   "execution_count": 5,
   "metadata": {},
   "outputs": [
    {
     "data": {},
     "metadata": {},
     "output_type": "display_data"
    },
    {
     "data": {
      "image/png": "[encoded data removed]",
      "text/plain": [
       "plot without title"
      ]
     },
     "metadata": {},
     "output_type": "display_data"
    }
   ],
   "source": [
    "training$cluster<-as.factor(data.kmeans$cluster)\n",
    "qplot(의료, 학문.교육, colour=cluster,data=training)"
   ]
  },
  {
   "cell_type": "code",
   "execution_count": 6,
   "metadata": {},
   "outputs": [
    {
     "data": {
      "text/plain": [
       "                    \n",
       "                     1 2 3\n",
       "  강원도홍천군       9 0 0\n",
       "  경기도군포시       7 0 1\n",
       "  경기도부천시       1 3 2\n",
       "  경기도수원시       1 5 0\n",
       "  경기도시흥시       1 0 7\n",
       "  경기도안산시       0 0 5\n",
       "  경기도안성시       7 0 0\n",
       "  경기도양주시       6 0 0\n",
       "  경기도양평군       6 0 0\n",
       "  경기도연천군       7 0 0\n",
       "  경기도오산시       6 0 0\n",
       "  경기도화성시       0 0 8\n",
       "  경상남도거제시     7 0 0\n",
       "  경상남도김해시     1 0 7\n",
       "  경상남도남해군     9 0 0\n",
       "  경상남도산청군     7 0 0\n",
       "  경상남도의령군     7 0 0\n",
       "  경상남도합천군     6 0 0\n",
       "  경상북도경산시     5 0 0\n",
       "  경상북도구미시     1 0 6\n",
       "  경상북도군위군     7 0 0\n",
       "  경상북도봉화군     4 0 0\n",
       "  경상북도영양군     5 0 0\n",
       "  경상북도예천군     9 0 0\n",
       "  경상북도의성군     5 0 0\n",
       "  경상북도청송군     6 0 0\n",
       "  경상북도칠곡군     9 0 0\n",
       "  광주광역시광산구   0 0 6\n",
       "  광주광역시남구     8 0 0\n",
       "  광주광역시북구     0 0 3\n",
       "  대구광역시동구     0 0 5\n",
       "  대구광역시중구     7 0 0\n",
       "  대전광역시동구     6 0 0\n",
       "  대전광역시서구     0 0 4\n",
       "  대전광역시유성구   1 0 7\n",
       "  부산광역시금정구   7 0 2\n",
       "  부산광역시남구     7 0 0\n",
       "  부산광역시부산진구 0 0 6\n",
       "  부산광역시사하구   1 0 6\n",
       "  서울특별시강남구   1 7 0\n",
       "  서울특별시송파구   1 2 5\n",
       "  울산광역시남구     1 0 4\n",
       "  울산광역시동구     5 0 0\n",
       "  울산광역시북구     6 0 0\n",
       "  인천광역시서구     0 0 6\n",
       "  전라남도고흥군     7 0 0\n",
       "  전라남도광양시     5 0 0\n",
       "  전라남도목포시     1 0 4\n",
       "  전라남도보성군     7 0 0\n",
       "  전라남도신안군     7 0 0\n",
       "  전라남도장흥군     6 0 0\n",
       "  전라남도진도군     6 0 0\n",
       "  전라남도함평군     4 0 0\n",
       "  전라북도군산시     0 0 4\n",
       "  전라북도임실군     7 0 0\n",
       "  충청남도논산시     6 0 0\n",
       "  충청남도천안시     1 0 4\n",
       "  충청남도청양군     6 0 0\n",
       "  충청북도괴산군     4 0 0\n",
       "  충청북도보은군     4 0 0"
      ]
     },
     "metadata": {},
     "output_type": "display_data"
    }
   ],
   "source": [
    "table(training$지역, training$cluster)"
   ]
  }
 ],
 "metadata": {
  "kernelspec": {
   "display_name": "R",
   "language": "R",
   "name": "ir"
  },
  "language_info": {
   "codemirror_mode": "r",
   "file_extension": ".r",
   "mimetype": "text/x-r-source",
   "name": "R",
   "pygments_lexer": "r",
   "version": "3.4.3"
  }
 },
 "nbformat": 4,
 "nbformat_minor": 2
}
